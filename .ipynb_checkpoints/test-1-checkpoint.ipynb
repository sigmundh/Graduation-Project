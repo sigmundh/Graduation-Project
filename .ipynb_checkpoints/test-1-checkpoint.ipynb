{
 "cells": [
  {
   "cell_type": "code",
   "execution_count": 12,
   "metadata": {
    "pycharm": {
     "is_executing": false
    }
   },
   "outputs": [
    {
     "data": {
      "text/html": [
       "<div>\n",
       "<style scoped>\n",
       "    .dataframe tbody tr th:only-of-type {\n",
       "        vertical-align: middle;\n",
       "    }\n",
       "\n",
       "    .dataframe tbody tr th {\n",
       "        vertical-align: top;\n",
       "    }\n",
       "\n",
       "    .dataframe thead th {\n",
       "        text-align: right;\n",
       "    }\n",
       "</style>\n",
       "<table border=\"1\" class=\"dataframe\">\n",
       "  <thead>\n",
       "    <tr style=\"text-align: right;\">\n",
       "      <th></th>\n",
       "    </tr>\n",
       "    <tr>\n",
       "      <th>date</th>\n",
       "    </tr>\n",
       "  </thead>\n",
       "  <tbody>\n",
       "    <tr>\n",
       "      <th>2014/1/1,2910,1842,1819,15441,1655,11481,1</th>\n",
       "    </tr>\n",
       "    <tr>\n",
       "      <th>2014/1/1,2853,1808,1797,15123,1586,11415,2</th>\n",
       "    </tr>\n",
       "    <tr>\n",
       "      <th>2014/1/1,2816,1795,1765,15001,1555,11363,3</th>\n",
       "    </tr>\n",
       "    <tr>\n",
       "      <th>2014/1/1,2810,1789,1754,15001,1532,11436,4</th>\n",
       "    </tr>\n",
       "    <tr>\n",
       "      <th>2014/1/1,2829,1799,1766,15034,1526,11614,5</th>\n",
       "    </tr>\n",
       "    <tr>\n",
       "      <th>2014/1/1,2854,1838,1797,15177,1551,11960,6</th>\n",
       "    </tr>\n",
       "    <tr>\n",
       "      <th>2014/1/1,2953,1878,1847,15524,1552,12334,7</th>\n",
       "    </tr>\n",
       "    <tr>\n",
       "      <th>2014/1/1,3030,1880,1890,15900,1588,12508,8</th>\n",
       "    </tr>\n",
       "    <tr>\n",
       "      <th>2014/1/1,3024,1918,1888,15983,1602,12559,9</th>\n",
       "    </tr>\n",
       "    <tr>\n",
       "      <th>2014/1/1,3032,1856,1929,16015,1636,12322,10</th>\n",
       "    </tr>\n",
       "  </tbody>\n",
       "</table>\n",
       "</div>"
      ],
      "text/plain": [
       "Empty DataFrame\n",
       "Columns: []\n",
       "Index: [2014/1/1,2910,1842,1819,15441,1655,11481,1, 2014/1/1,2853,1808,1797,15123,1586,11415,2, 2014/1/1,2816,1795,1765,15001,1555,11363,3, 2014/1/1,2810,1789,1754,15001,1532,11436,4, 2014/1/1,2829,1799,1766,15034,1526,11614,5, 2014/1/1,2854,1838,1797,15177,1551,11960,6, 2014/1/1,2953,1878,1847,15524,1552,12334,7, 2014/1/1,3030,1880,1890,15900,1588,12508,8, 2014/1/1,3024,1918,1888,15983,1602,12559,9, 2014/1/1,3032,1856,1929,16015,1636,12322,10]"
      ]
     },
     "execution_count": 12,
     "metadata": {},
     "output_type": "execute_result"
    }
   ],
   "source": [
    "import numpy as np\n",
    "import pandas as pd\n",
    "import matplotlib.pyplot as plt\n",
    "\n",
    "\n",
    "\n",
    "dataset = pd.read_csv('./LD_MT200_hour.csv', sep=';', header=0,\n",
    "                      low_memory=False, infer_datetime_format=True, engine='c',\n",
    "                      parse_dates={'date':[0]}, index_col=['date'])\n",
    "\n",
    "dataset.shape\n",
    "dataset.head(10)"
   ]
  },
  {
   "cell_type": "code",
   "execution_count": 13,
   "metadata": {
    "pycharm": {
     "metadata": false,
     "name": "#%%\n"
    }
   },
   "outputs": [],
   "source": [
    "# #缺失值\n",
    "# dataset.isna().sum()\n",
    "#  \n",
    "# #查看异常值\n",
    "# dataset.iloc[dataset.values == \"*\"].count()\n",
    "#  \n",
    "# #默认标记异常值处理\n",
    "# #异常值用 np.nan替换，将数据作为一个浮点值数组来处理。\n",
    "# dataset.replace(\"*\", np.nan, inplace=True)\n",
    "#  \n",
    "# #查看异常值\n",
    "# dataset.iloc[dataset.values == \"*\"].count()\n",
    "#  \n",
    "# #查看缺失值：\n",
    "# dataset.isna().sum()\n"
   ]
  },
  {
   "cell_type": "code",
   "execution_count": 15,
   "metadata": {
    "pycharm": {
     "metadata": false,
     "name": "#%%matplotlib inline\n"
    }
   },
   "outputs": [
    {
     "data": {
      "text/plain": [
       "<Figure size 432x288 with 0 Axes>"
      ]
     },
     "metadata": {},
     "output_type": "display_data"
    }
   ],
   "source": [
    "def plot_features(dataset):\n",
    "    for i in range(len(dataset.columns)):\n",
    "        plt.subplot(len(dataset.columns), 1, i+1)\n",
    "        feature_name = dataset.columns[i]\n",
    "        plt.plot(dataset[feature_name])\n",
    "        plt.title(feature_name, y=0)\n",
    "        plt.grid(linestyle='--', alpha=0.5)\n",
    "    \n",
    "    plt.tight_layout()\n",
    "    plt.show()\n",
    "    \n",
    "plot_features(dataset)"
   ]
  },
  {
   "cell_type": "code",
   "execution_count": null,
   "metadata": {
    "pycharm": {
     "metadata": false,
     "name": "#%%\n"
    }
   },
   "outputs": [],
   "source": [
    "\n"
   ]
  }
 ],
 "metadata": {
  "kernelspec": {
   "display_name": "Python 3 (ipykernel)",
   "language": "python",
   "name": "python3"
  },
  "language_info": {
   "codemirror_mode": {
    "name": "ipython",
    "version": 3
   },
   "file_extension": ".py",
   "mimetype": "text/x-python",
   "name": "python",
   "nbconvert_exporter": "python",
   "pygments_lexer": "ipython3",
   "version": "3.7.3"
  }
 },
 "nbformat": 4,
 "nbformat_minor": 1
}
